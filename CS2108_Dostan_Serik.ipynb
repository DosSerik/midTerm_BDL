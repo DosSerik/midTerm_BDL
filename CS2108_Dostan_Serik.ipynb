{
 "cells": [
  {
   "cell_type": "markdown",
   "id": "581dc93d",
   "metadata": {},
   "source": [
    "#  Big Data in Law Enforcement"
   ]
  },
  {
   "cell_type": "markdown",
   "id": "efa456fc",
   "metadata": {},
   "source": [
    "## Introduction\n",
    "Cyber Security specialist ought to know almost all of the basic skill in every IT field. \n",
    "Big Data is also a huge part of CS, for instance: log systems."
   ]
  },
  {
   "cell_type": "markdown",
   "id": "b7cb84ae",
   "metadata": {},
   "source": [
    "**Objectives:**\n",
    "* List of Data Science popular languages\n",
    "* List of Data Science popular open source DE\n",
    "* Data Science tools\n",
    "* Some code expressions\n",
    "* Uploading Notebook to a public repository in GitHub\n",
    "## Author:\n",
    "Serik Dostan"
   ]
  },
  {
   "cell_type": "markdown",
   "id": "28cda228",
   "metadata": {},
   "source": [
    "_Top 3 popular languages for Data Science:_\n",
    "1. Python\n",
    "2. R\n",
    "3. SQL\n"
   ]
  },
  {
   "cell_type": "markdown",
   "id": "2b358900",
   "metadata": {},
   "source": [
    "_Popular (3) libraries for Data Science:_\n",
    "* Numpy\n",
    "* scikit-learn\n",
    "* pandas"
   ]
  },
  {
   "cell_type": "markdown",
   "id": "44f060b6",
   "metadata": {},
   "source": [
    "| Data Science Tools |\n",
    "|--------------------|\n",
    "|Jupiter Notebook|\n",
    "|Apache Spark|\n",
    "|RStudio|"
   ]
  },
  {
   "cell_type": "markdown",
   "id": "b01005e5",
   "metadata": {},
   "source": [
    "### Below are a few examples of evaluating arithmetic expressions in Python"
   ]
  },
  {
   "cell_type": "code",
   "execution_count": 2,
   "id": "c4ee2e03",
   "metadata": {},
   "outputs": [
    {
     "data": {
      "text/plain": [
       "33"
      ]
     },
     "execution_count": 2,
     "metadata": {},
     "output_type": "execute_result"
    }
   ],
   "source": [
    "# This is a simple arithmetic expression in python\n",
    "(4*6)+9"
   ]
  },
  {
   "cell_type": "code",
   "execution_count": 3,
   "id": "cd5e1335",
   "metadata": {},
   "outputs": [
    {
     "data": {
      "text/plain": [
       "5.0"
      ]
     },
     "execution_count": 3,
     "metadata": {},
     "output_type": "execute_result"
    }
   ],
   "source": [
    "# Converting 300 minutes into hours in python\n",
    "300/60"
   ]
  },
  {
   "cell_type": "code",
   "execution_count": null,
   "id": "9056b0ff",
   "metadata": {},
   "outputs": [],
   "source": []
  }
 ],
 "metadata": {
  "kernelspec": {
   "display_name": "Python 3 (ipykernel)",
   "language": "python",
   "name": "python3"
  },
  "language_info": {
   "codemirror_mode": {
    "name": "ipython",
    "version": 3
   },
   "file_extension": ".py",
   "mimetype": "text/x-python",
   "name": "python",
   "nbconvert_exporter": "python",
   "pygments_lexer": "ipython3",
   "version": "3.9.18"
  }
 },
 "nbformat": 4,
 "nbformat_minor": 5
}
